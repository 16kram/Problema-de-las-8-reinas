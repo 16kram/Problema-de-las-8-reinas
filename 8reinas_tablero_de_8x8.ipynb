{
  "nbformat": 4,
  "nbformat_minor": 0,
  "metadata": {
    "colab": {
      "provenance": []
    },
    "kernelspec": {
      "name": "python3",
      "display_name": "Python 3"
    },
    "language_info": {
      "name": "python"
    }
  },
  "cells": [
    {
      "cell_type": "code",
      "execution_count": null,
      "metadata": {
        "id": "W5bph-M656r2"
      },
      "outputs": [],
      "source": []
    },
    {
      "cell_type": "code",
      "execution_count": 1,
      "metadata": {
        "id": "zN9C1EfsPEcM",
        "colab": {
          "base_uri": "https://localhost:8080/"
        },
        "outputId": "f7fe37ea-733b-4c26-ddad-4ba97739ec31"
      },
      "outputs": [
        {
          "output_type": "stream",
          "name": "stdout",
          "text": [
            "Collecting python-sat[aiger,approxmc,pblib]\n",
            "  Downloading python_sat-1.8.dev13-cp310-cp310-manylinux_2_12_x86_64.manylinux2010_x86_64.manylinux_2_28_x86_64.whl.metadata (1.5 kB)\n",
            "Requirement already satisfied: six in /usr/local/lib/python3.10/dist-packages (from python-sat[aiger,approxmc,pblib]) (1.16.0)\n",
            "Collecting py-aiger-cnf>=2.0.0 (from python-sat[aiger,approxmc,pblib])\n",
            "  Downloading py_aiger_cnf-5.0.8-py3-none-any.whl.metadata (2.7 kB)\n",
            "Collecting pyapproxmc>=4.1.8 (from python-sat[aiger,approxmc,pblib])\n",
            "  Downloading pyapproxmc-4.1.24-cp310-cp310-manylinux_2_17_x86_64.manylinux2014_x86_64.whl.metadata (3.9 kB)\n",
            "Collecting pypblib>=0.0.3 (from python-sat[aiger,approxmc,pblib])\n",
            "  Downloading pypblib-0.0.4.tar.gz (74 kB)\n",
            "\u001b[2K     \u001b[90m━━━━━━━━━━━━━━━━━━━━━━━━━━━━━━━━━━━━━━━━\u001b[0m \u001b[32m74.0/74.0 kB\u001b[0m \u001b[31m4.1 MB/s\u001b[0m eta \u001b[36m0:00:00\u001b[0m\n",
            "\u001b[?25h  Preparing metadata (setup.py) ... \u001b[?25l\u001b[?25hdone\n",
            "Collecting bidict<0.23.0,>=0.22.0 (from py-aiger-cnf>=2.0.0->python-sat[aiger,approxmc,pblib])\n",
            "  Downloading bidict-0.22.1-py3-none-any.whl.metadata (10 kB)\n",
            "Collecting funcy<2.0,>=1.12 (from py-aiger-cnf>=2.0.0->python-sat[aiger,approxmc,pblib])\n",
            "  Downloading funcy-1.18-py2.py3-none-any.whl.metadata (6.0 kB)\n",
            "Collecting py-aiger<7.0.0,>=6.0.0 (from py-aiger-cnf>=2.0.0->python-sat[aiger,approxmc,pblib])\n",
            "  Downloading py_aiger-6.2.3-py3-none-any.whl.metadata (9.4 kB)\n",
            "Requirement already satisfied: attrs>=23 in /usr/local/lib/python3.10/dist-packages (from py-aiger<7.0.0,>=6.0.0->py-aiger-cnf>=2.0.0->python-sat[aiger,approxmc,pblib]) (24.2.0)\n",
            "Collecting pyrsistent<0.20.0,>=0.19.0 (from py-aiger<7.0.0,>=6.0.0->py-aiger-cnf>=2.0.0->python-sat[aiger,approxmc,pblib])\n",
            "  Downloading pyrsistent-0.19.3-py3-none-any.whl.metadata (27 kB)\n",
            "Requirement already satisfied: sortedcontainers<3.0.0,>=2.3.0 in /usr/local/lib/python3.10/dist-packages (from py-aiger<7.0.0,>=6.0.0->py-aiger-cnf>=2.0.0->python-sat[aiger,approxmc,pblib]) (2.4.0)\n",
            "Downloading py_aiger_cnf-5.0.8-py3-none-any.whl (5.1 kB)\n",
            "Downloading pyapproxmc-4.1.24-cp310-cp310-manylinux_2_17_x86_64.manylinux2014_x86_64.whl (10.7 MB)\n",
            "\u001b[2K   \u001b[90m━━━━━━━━━━━━━━━━━━━━━━━━━━━━━━━━━━━━━━━━\u001b[0m \u001b[32m10.7/10.7 MB\u001b[0m \u001b[31m66.5 MB/s\u001b[0m eta \u001b[36m0:00:00\u001b[0m\n",
            "\u001b[?25hDownloading python_sat-1.8.dev13-cp310-cp310-manylinux_2_12_x86_64.manylinux2010_x86_64.manylinux_2_28_x86_64.whl (2.7 MB)\n",
            "\u001b[2K   \u001b[90m━━━━━━━━━━━━━━━━━━━━━━━━━━━━━━━━━━━━━━━━\u001b[0m \u001b[32m2.7/2.7 MB\u001b[0m \u001b[31m63.6 MB/s\u001b[0m eta \u001b[36m0:00:00\u001b[0m\n",
            "\u001b[?25hDownloading bidict-0.22.1-py3-none-any.whl (35 kB)\n",
            "Downloading funcy-1.18-py2.py3-none-any.whl (33 kB)\n",
            "Downloading py_aiger-6.2.3-py3-none-any.whl (19 kB)\n",
            "Downloading pyrsistent-0.19.3-py3-none-any.whl (57 kB)\n",
            "\u001b[2K   \u001b[90m━━━━━━━━━━━━━━━━━━━━━━━━━━━━━━━━━━━━━━━━\u001b[0m \u001b[32m57.5/57.5 kB\u001b[0m \u001b[31m3.6 MB/s\u001b[0m eta \u001b[36m0:00:00\u001b[0m\n",
            "\u001b[?25hBuilding wheels for collected packages: pypblib\n",
            "  Building wheel for pypblib (setup.py) ... \u001b[?25l\u001b[?25hdone\n",
            "  Created wheel for pypblib: filename=pypblib-0.0.4-cp310-cp310-linux_x86_64.whl size=2973438 sha256=0e7cf0f2a8d77de55fa564d2ef2114377314071b1c311720e6c5b911a0ce214e\n",
            "  Stored in directory: /root/.cache/pip/wheels/a8/3d/9c/b980a09d6084eaeb9b336edbe20371c53c2550226daeee2025\n",
            "Successfully built pypblib\n",
            "Installing collected packages: pypblib, funcy, python-sat, pyrsistent, pyapproxmc, bidict, py-aiger, py-aiger-cnf\n",
            "Successfully installed bidict-0.22.1 funcy-1.18 py-aiger-6.2.3 py-aiger-cnf-5.0.8 pyapproxmc-4.1.24 pypblib-0.0.4 pyrsistent-0.19.3 python-sat-1.8.dev13\n"
          ]
        }
      ],
      "source": [
        "# Instal·lació de PySAT i les seves dependències\n",
        "!pip install python-sat[aiger,approxmc,pblib]"
      ]
    },
    {
      "cell_type": "code",
      "source": [
        "from pysat.formula import CNF\n",
        "from pysat.solvers import Glucose3\n",
        "from pysat.card import CardEnc, EncType\n",
        "from IPython.display import HTML\n",
        "import numpy as np\n",
        "import time\n",
        "import math"
      ],
      "metadata": {
        "id": "jq04EF-Za5vP"
      },
      "execution_count": 2,
      "outputs": []
    },
    {
      "cell_type": "code",
      "source": [
        "nomsat_a_nomreal = {}\n",
        "nomreal_a_nomsat = {}\n",
        "\n",
        "nomsat = 1\n",
        "\n",
        "for fila in range(1, 9):\n",
        "  for columna in range(1,9):\n",
        "      nomreal = int(str(fila)+str(columna))\n",
        "      nomsat_a_nomreal[nomsat] = nomreal\n",
        "      nomreal_a_nomsat[nomreal] = nomsat\n",
        "      nomsat += 1"
      ],
      "metadata": {
        "id": "QITvnCD07zGS"
      },
      "execution_count": 3,
      "outputs": []
    },
    {
      "cell_type": "code",
      "source": [
        "def obtener_fila(fila):\n",
        "  indexos = []\n",
        "  for columna in range(1,9):\n",
        "    nomreal = int(str(fila)+str(columna))\n",
        "    indexos.append(nomreal_a_nomsat[nomreal])\n",
        "  return indexos"
      ],
      "metadata": {
        "id": "cmBXzDTAQwiM"
      },
      "execution_count": 4,
      "outputs": []
    },
    {
      "cell_type": "code",
      "source": [
        "def obtener_columna(columna):\n",
        "  indexos = []\n",
        "  for fila in range(1, 9):\n",
        "    nomreal = int(str(fila)+str(columna))\n",
        "    indexos.append(nomreal_a_nomsat[nomreal])\n",
        "  return indexos"
      ],
      "metadata": {
        "id": "DjUZEs_saMK8"
      },
      "execution_count": 5,
      "outputs": []
    },
    {
      "cell_type": "code",
      "execution_count": 39,
      "metadata": {
        "id": "1IamUtBJ_wnt"
      },
      "outputs": [],
      "source": [
        "def obtener_diagonales():\n",
        " indexos=[]\n",
        "\n",
        " # Diagonales izquierda-derecha\n",
        " for n in range (0,7):\n",
        "  indexos1=[]\n",
        "  for i in range (n,8):\n",
        "   j=i-n\n",
        "   nomreal = int(str(i+1)+str(j+1))\n",
        "   indexos1.append(nomreal_a_nomsat[nomreal])\n",
        "   #print(nomreal)\n",
        "  indexos.append(indexos1)\n",
        "  #print(\"------\")\n",
        "\n",
        " for n in range (1,7):\n",
        "  indexos2=[]\n",
        "  for i in range (n,8):\n",
        "    j=i-n\n",
        "    nomreal = int(str(j+1)+str(i+1))\n",
        "    indexos2.append(nomreal_a_nomsat[nomreal])\n",
        "    #print (nomreal)\n",
        "  indexos.append(indexos2)\n",
        "  #print(\"------\")\n",
        "\n",
        " #Diagonales de derecha-izquierda\n",
        " for n in range(1,8):\n",
        "  indexos3=[]\n",
        "  for i in range(0,8-(7-n)):\n",
        "   j=abs(i-n)\n",
        "   nomreal = int(str(i+1)+str(j+1))\n",
        "   indexos3.append(nomreal_a_nomsat[nomreal])\n",
        "   #print(nomreal)\n",
        "  indexos.append(indexos3)\n",
        "  #print(\"----\")\n",
        "\n",
        " for n in range(6,0,-1):\n",
        "  indexos4=[]\n",
        "  for i in range(0,8-(7-n)):\n",
        "   j=abs(i-n)\n",
        "   nomreal = int(str(abs(j-7)+1)+str(abs(i-7)+1))\n",
        "   indexos4.append(nomreal_a_nomsat[nomreal])\n",
        "   #print(nomreal)\n",
        "  indexos.append(indexos4)\n",
        "  #print(\"----\")\n",
        "\n",
        " return indexos"
      ]
    },
    {
      "cell_type": "code",
      "source": [
        "def obtener_filas_y_columnas():\n",
        "  sat_restriccion = []\n",
        "\n",
        "  # Restriccion tipo fila\n",
        "  for fila in range(1, 9):\n",
        "     sat_restriccion.append(obtener_fila(fila))\n",
        "  # Restriccion tipo columna\n",
        "  for columna in range(1, 9):\n",
        "    sat_restriccion.append(obtener_columna(columna))\n",
        "\n",
        "  return sat_restriccion"
      ],
      "metadata": {
        "id": "xC88lKb6tHpj"
      },
      "execution_count": 52,
      "outputs": []
    },
    {
      "cell_type": "code",
      "source": [
        "def obtener_formula_general():\n",
        "\n",
        "  cnf = CNF()\n",
        "\n",
        "  #Obtiene las restricciones de fila y columna\n",
        "  for sat in obtener_filas_y_columnas():\n",
        "    cnf.extend(CardEnc.equals(lits=sat, bound=1, encoding=EncType.pairwise))\n",
        "\n",
        "  #Obtiene las restricciones de las diagonales\n",
        "  for sat_dig in obtener_diagonales():\n",
        "    cnf.extend(CardEnc.atmost(lits=sat_dig, bound=1, encoding=EncType.pairwise))\n",
        "\n",
        "  return cnf"
      ],
      "metadata": {
        "id": "b1Kxi0Q9u08H"
      },
      "execution_count": 53,
      "outputs": []
    },
    {
      "cell_type": "code",
      "source": [
        "# Creamos el tablero\n",
        "tablero = np.zeros((8, 8), dtype=int)\n",
        "formula_cnf = obtener_formula_general()\n",
        "\n",
        "# Solucionamos\n",
        "solver = Glucose3(bootstrap_with=formula_cnf.clauses)\n",
        "temps_inici = time.time()\n",
        "sat = solver.solve()\n",
        "temps_fi = time.time()\n",
        "\n",
        "# Imprimimos el tablero si hay solución\n",
        "if (sat):\n",
        "  model = [e for e in solver.get_model() if e > 0] # Sólo interesan los positivos\n",
        "  for pos in model:\n",
        "    real = nomsat_a_nomreal[pos]\n",
        "    tablero[int(str(real)[0]) - 1, int(str(real)[1]) - 1] = str(1)\n",
        "  print(\"\\nTablero solucionado:\")\n",
        "  print(tablero)\n",
        "  print(\"\\nProblema solucionado en %f milisegundos\" % ((temps_fi - temps_inici)*1000))\n",
        "else:\n",
        "  print(\"El problema no tiene solución!!\")\n"
      ],
      "metadata": {
        "colab": {
          "base_uri": "https://localhost:8080/"
        },
        "id": "1lFGtCuC8SuS",
        "outputId": "81ca1458-f8c7-420b-d773-57e5bf3ec284"
      },
      "execution_count": 54,
      "outputs": [
        {
          "output_type": "stream",
          "name": "stdout",
          "text": [
            "\n",
            "Tablero solucionado:\n",
            "[[0 0 0 1 0 0 0 0]\n",
            " [0 1 0 0 0 0 0 0]\n",
            " [0 0 0 0 0 0 1 0]\n",
            " [0 0 1 0 0 0 0 0]\n",
            " [0 0 0 0 0 1 0 0]\n",
            " [0 0 0 0 0 0 0 1]\n",
            " [0 0 0 0 1 0 0 0]\n",
            " [1 0 0 0 0 0 0 0]]\n",
            "\n",
            "Problema solucionado en 0.307560 milisegundos\n"
          ]
        }
      ]
    },
    {
      "cell_type": "code",
      "source": [],
      "metadata": {
        "id": "o3jDqlQ2gcd7"
      },
      "execution_count": null,
      "outputs": []
    }
  ]
}